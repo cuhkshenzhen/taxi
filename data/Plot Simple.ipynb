{
 "cells": [
  {
   "cell_type": "code",
   "execution_count": 4,
   "metadata": {},
   "outputs": [
    {
     "data": {
      "text/html": [
       "<script>requirejs.config({paths: { 'plotly': ['https://cdn.plot.ly/plotly-latest.min']},});if(!window.Plotly) {{require(['plotly'],function(plotly) {window.Plotly=plotly;});}}</script>"
      ],
      "text/vnd.plotly.v1+html": [
       "<script>requirejs.config({paths: { 'plotly': ['https://cdn.plot.ly/plotly-latest.min']},});if(!window.Plotly) {{require(['plotly'],function(plotly) {window.Plotly=plotly;});}}</script>"
      ]
     },
     "metadata": {},
     "output_type": "display_data"
    }
   ],
   "source": [
    "import numpy as np\n",
    "import pandas as pd\n",
    "from datetime import datetime\n",
    "from collections import defaultdict\n",
    "\n",
    "import plotly\n",
    "from plotly.graph_objs import Scatter, Layout, Line\n",
    "\n",
    "plotly.offline.init_notebook_mode(connected=True)\n",
    "filename_syntax = \"data/201408{:02d}_train.txt\""
   ]
  },
  {
   "cell_type": "code",
   "execution_count": 9,
   "metadata": {},
   "outputs": [
    {
     "data": {
      "application/vnd.plotly.v1+json": {
       "data": [
        {
         "mode": "lines+markers",
         "name": "lines+markers",
         "type": "scatter",
         "x": [
          3,
          4,
          5,
          6,
          8,
          9,
          10,
          11,
          12,
          14,
          15,
          16,
          18,
          19,
          20,
          21,
          22,
          23,
          24,
          25,
          26,
          27,
          28,
          29,
          30
         ],
         "y": [
          13605,
          13642,
          13950,
          13525,
          13440,
          13386,
          13449,
          13959,
          13994,
          13989,
          13952,
          13894,
          13936,
          14044,
          14037,
          14063,
          14036,
          13991,
          13932,
          14039,
          14007,
          14092,
          14049,
          14038,
          13949
         ]
        }
       ],
       "layout": {
        "title": "Drivers per Hour"
       }
      },
      "text/html": [
       "<div id=\"58bb0f58-301d-45b9-8159-6b92c1f10475\" style=\"height: 525px; width: 100%;\" class=\"plotly-graph-div\"></div><script type=\"text/javascript\">require([\"plotly\"], function(Plotly) { window.PLOTLYENV=window.PLOTLYENV || {};window.PLOTLYENV.BASE_URL=\"https://plot.ly\";Plotly.newPlot(\"58bb0f58-301d-45b9-8159-6b92c1f10475\", [{\"type\": \"scatter\", \"x\": [3, 4, 5, 6, 8, 9, 10, 11, 12, 14, 15, 16, 18, 19, 20, 21, 22, 23, 24, 25, 26, 27, 28, 29, 30], \"y\": [13605, 13642, 13950, 13525, 13440, 13386, 13449, 13959, 13994, 13989, 13952, 13894, 13936, 14044, 14037, 14063, 14036, 13991, 13932, 14039, 14007, 14092, 14049, 14038, 13949], \"mode\": \"lines+markers\", \"name\": \"lines+markers\"}], {\"title\": \"Drivers per Hour\"}, {\"showLink\": true, \"linkText\": \"Export to plot.ly\"})});</script>"
      ],
      "text/vnd.plotly.v1+html": [
       "<div id=\"58bb0f58-301d-45b9-8159-6b92c1f10475\" style=\"height: 525px; width: 100%;\" class=\"plotly-graph-div\"></div><script type=\"text/javascript\">require([\"plotly\"], function(Plotly) { window.PLOTLYENV=window.PLOTLYENV || {};window.PLOTLYENV.BASE_URL=\"https://plot.ly\";Plotly.newPlot(\"58bb0f58-301d-45b9-8159-6b92c1f10475\", [{\"type\": \"scatter\", \"x\": [3, 4, 5, 6, 8, 9, 10, 11, 12, 14, 15, 16, 18, 19, 20, 21, 22, 23, 24, 25, 26, 27, 28, 29, 30], \"y\": [13605, 13642, 13950, 13525, 13440, 13386, 13449, 13959, 13994, 13989, 13952, 13894, 13936, 14044, 14037, 14063, 14036, 13991, 13932, 14039, 14007, 14092, 14049, 14038, 13949], \"mode\": \"lines+markers\", \"name\": \"lines+markers\"}], {\"title\": \"Drivers per Hour\"}, {\"showLink\": true, \"linkText\": \"Export to plot.ly\"})});</script>"
      ]
     },
     "metadata": {},
     "output_type": "display_data"
    }
   ],
   "source": [
    "plotly.offline.iplot({\n",
    "\n",
    "\n",
    "    \"data\": [    Scatter(\n",
    "    x = [3, 4, 5, 6, 8, 9, 10, 11, 12, 14, 15, 16, 18, 19, 20, 21, 22, 23, 24, 25, 26, 27, 28, 29, 30],\n",
    "        y = [13605, 13642, 13950, 13525, 13440, 13386, 13449, 13959, 13994, 13989, 13952, 13894, 13936, 14044, 14037, 14063, 14036, 13991, 13932, 14039, 14007, 14092, 14049, 14038, 13949],\n",
    "        mode = 'lines+markers',\n",
    "    name = 'lines+markers'\n",
    ")],\n",
    "    \"layout\": Layout(title=\"Drivers per Hour\")\n",
    "})"
   ]
  },
  {
   "cell_type": "code",
   "execution_count": null,
   "metadata": {
    "collapsed": true
   },
   "outputs": [],
   "source": []
  }
 ],
 "metadata": {
  "kernelspec": {
   "display_name": "Python 3",
   "language": "python",
   "name": "python3"
  },
  "language_info": {
   "codemirror_mode": {
    "name": "ipython",
    "version": 3
   },
   "file_extension": ".py",
   "mimetype": "text/x-python",
   "name": "python",
   "nbconvert_exporter": "python",
   "pygments_lexer": "ipython3",
   "version": "3.6.1"
  }
 },
 "nbformat": 4,
 "nbformat_minor": 2
}
