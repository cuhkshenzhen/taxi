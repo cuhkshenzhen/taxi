{
 "cells": [
  {
   "cell_type": "code",
   "execution_count": 1,
   "metadata": {},
   "outputs": [],
   "source": [
    "import numpy as np\n",
    "import pandas as pd\n",
    "from datetime import datetime"
   ]
  },
  {
   "cell_type": "code",
   "execution_count": 7,
   "metadata": {},
   "outputs": [],
   "source": [
    "filename_syntax = \"201408{:02d}_train.txt\"\n",
    "pickle_filename_syntax  = \"201408{:02d}.pickle\"\n",
    "driver = pd.Series()\n",
    "# df = pd.DataFrame(columns=[\"TaxiID\", \"Latitude\", \"Longtitude\", \"Carriage\", \"Time\"])"
   ]
  },
  {
   "cell_type": "code",
   "execution_count": null,
   "metadata": {},
   "outputs": [],
   "source": [
    "for i in range(3, 31):\n",
    "    if i not in [7, 13, 17]:\n",
    "        filename = filename_syntax.format(i)\n",
    "        print(\"Going to read file\", filename, \"at\", datetime.now())\n",
    "        # names=[\"TaxiID\", \"Latitude\", \"Longtitude\", \"Carriage\", \"Time\"], parse_dates=[4], infer_datetime_format=True\n",
    "        df = pd.read_csv(filename, header=None, names=[\"TaxiID\"], usecols=[0])\n",
    "\n",
    "        print(\"Successfully read file\", filename, \"at\", datetime.now())\n",
    "        #     print(pickle_filename_syntax.format(i))\n",
    "        #     df.to_pickle(pickle_filename_syntax.format(i), compression=None)\n",
    "    \n",
    "        #     print(\"File\", filename, \"exported to pickle file\", \"at\", datetime.now())\n",
    "\n",
    "        driver = pd.Series(driver.append(df[\"TaxiID\"], ignore_index=True).unique())\n",
    "        del df"
   ]
  },
  {
   "cell_type": "code",
   "execution_count": 10,
   "metadata": {},
   "outputs": [
    {
     "data": {
      "text/plain": [
       "14860"
      ]
     },
     "execution_count": 10,
     "metadata": {},
     "output_type": "execute_result"
    }
   ],
   "source": [
    "len(driver.unique())"
   ]
  }
 ],
 "metadata": {
  "kernelspec": {
   "display_name": "Python 3",
   "language": "python",
   "name": "python3"
  },
  "language_info": {
   "codemirror_mode": {
    "name": "ipython",
    "version": 3
   },
   "file_extension": ".py",
   "mimetype": "text/x-python",
   "name": "python",
   "nbconvert_exporter": "python",
   "pygments_lexer": "ipython3",
   "version": "3.6.1"
  }
 },
 "nbformat": 4,
 "nbformat_minor": 2
}
