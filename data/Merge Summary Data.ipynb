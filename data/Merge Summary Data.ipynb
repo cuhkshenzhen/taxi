{
 "cells": [
  {
   "cell_type": "code",
   "execution_count": 41,
   "metadata": {
    "collapsed": true
   },
   "outputs": [],
   "source": [
    "import json\n",
    "import re\n",
    "from collections import defaultdict\n",
    "filename_syntax = \"Summary/json/{}.json\""
   ]
  },
  {
   "cell_type": "code",
   "execution_count": 32,
   "metadata": {
    "scrolled": true
   },
   "outputs": [],
   "source": [
    "d = {}\n",
    "for i in range(3, 31):\n",
    "    if i not in [7, 13, 17]:\n",
    "        filename = filename_syntax.format(i)\n",
    "        with open(filename) as f:\n",
    "            text = \"\".join(f.readlines())\n",
    "            line = re.sub(r\"\\\"\\[\\\"(\\w+)\\\"\\,\\\"([\\w%]+)\\\"\\]\\\"\\:\", '\"\\g<1>-\\g<2>\":', text)\n",
    "            d[i] = json.loads(line)"
   ]
  },
  {
   "cell_type": "code",
   "execution_count": 35,
   "metadata": {},
   "outputs": [
    {
     "data": {
      "text/plain": [
       "dict_keys([3, 4, 5, 6, 8, 9, 10, 11, 12, 14, 15, 16, 18, 19, 20, 21, 22, 23, 24, 25, 26, 27, 28, 29, 30])"
      ]
     },
     "execution_count": 35,
     "metadata": {},
     "output_type": "execute_result"
    }
   ],
   "source": [
    "d.keys() # Date - Category - ID - Value"
   ]
  },
  {
   "cell_type": "code",
   "execution_count": 39,
   "metadata": {},
   "outputs": [
    {
     "data": {
      "text/plain": [
       "dict_keys(['Carriage-count', 'Carriage-mean', 'Carriage-std', 'Carriage-min', 'Carriage-25%', 'Carriage-50%', 'Carriage-75%', 'Carriage-max', 'Latitude-count', 'Latitude-mean', 'Latitude-std', 'Latitude-min', 'Latitude-25%', 'Latitude-50%', 'Latitude-75%', 'Latitude-max', 'Longtitude-count', 'Longtitude-mean', 'Longtitude-std', 'Longtitude-min', 'Longtitude-25%', 'Longtitude-50%', 'Longtitude-75%', 'Longtitude-max'])"
      ]
     },
     "execution_count": 39,
     "metadata": {},
     "output_type": "execute_result"
    }
   ],
   "source": [
    "# To: Category - Date - [Value]"
   ]
  },
  {
   "cell_type": "code",
   "execution_count": 40,
   "metadata": {
    "collapsed": true
   },
   "outputs": [],
   "source": [
    "keys = ['Carriage-count', 'Carriage-mean', 'Carriage-std', 'Carriage-min', 'Carriage-25%', 'Carriage-50%', 'Carriage-75%', 'Carriage-max', 'Latitude-count', 'Latitude-mean', 'Latitude-std', 'Latitude-min', 'Latitude-25%', 'Latitude-50%', 'Latitude-75%', 'Latitude-max', 'Longtitude-count', 'Longtitude-mean', 'Longtitude-std', 'Longtitude-min', 'Longtitude-25%', 'Longtitude-50%', 'Longtitude-75%', 'Longtitude-max']"
   ]
  },
  {
   "cell_type": "code",
   "execution_count": 52,
   "metadata": {},
   "outputs": [],
   "source": [
    "d1 = {k: defaultdict(list) for k in keys}\n",
    "ids = {}\n",
    "for key, value in d.items():\n",
    "    for k in keys:\n",
    "        d1[k][key] = [v for k1, v in value[k].items()]\n",
    "    ids[key] = [k1 for k1, v in value[\"Carriage-count\"].items()]"
   ]
  },
  {
   "cell_type": "code",
   "execution_count": 47,
   "metadata": {
    "scrolled": false
   },
   "outputs": [
    {
     "data": {
      "text/plain": [
       "[13605,\n",
       " 13642,\n",
       " 13950,\n",
       " 13525,\n",
       " 13440,\n",
       " 13386,\n",
       " 13449,\n",
       " 13959,\n",
       " 13994,\n",
       " 13989,\n",
       " 13952,\n",
       " 13894,\n",
       " 13936,\n",
       " 14044,\n",
       " 14037,\n",
       " 14063,\n",
       " 14036,\n",
       " 13991,\n",
       " 13932,\n",
       " 14039,\n",
       " 14007,\n",
       " 14092,\n",
       " 14049,\n",
       " 14038,\n",
       " 13949]"
      ]
     },
     "execution_count": 47,
     "metadata": {},
     "output_type": "execute_result"
    }
   ],
   "source": [
    "[len(v) for v in d1[\"Carriage-count\"].values()]"
   ]
  },
  {
   "cell_type": "code",
   "execution_count": 50,
   "metadata": {},
   "outputs": [],
   "source": [
    "json.dump(d1, open(\"Summary/summary.json\", \"w\"))"
   ]
  },
  {
   "cell_type": "code",
   "execution_count": 56,
   "metadata": {},
   "outputs": [],
   "source": [
    "s = set()\n",
    "for i, v in ids.items():\n",
    "    for k in v:\n",
    "        s.add(k)"
   ]
  },
  {
   "cell_type": "code",
   "execution_count": 57,
   "metadata": {},
   "outputs": [
    {
     "data": {
      "text/plain": [
       "14860"
      ]
     },
     "execution_count": 57,
     "metadata": {},
     "output_type": "execute_result"
    }
   ],
   "source": [
    "len(s)"
   ]
  },
  {
   "cell_type": "code",
   "execution_count": null,
   "metadata": {
    "collapsed": true
   },
   "outputs": [],
   "source": []
  }
 ],
 "metadata": {
  "kernelspec": {
   "display_name": "Python 3",
   "language": "python",
   "name": "python3"
  },
  "language_info": {
   "codemirror_mode": {
    "name": "ipython",
    "version": 3
   },
   "file_extension": ".py",
   "mimetype": "text/x-python",
   "name": "python",
   "nbconvert_exporter": "python",
   "pygments_lexer": "ipython3",
   "version": "3.6.1"
  }
 },
 "nbformat": 4,
 "nbformat_minor": 2
}
